{
 "cells": [
  {
   "attachments": {},
   "cell_type": "markdown",
   "metadata": {},
   "source": [
    "# Running the LeetCode Gauntlet \n",
    "\n",
    "A collection of 130 leetcode problems done in a single notebook to log my job hunt prep! \n",
    "This notebook will be available for any recruiters who want to see my hard work (I'm looking at you Google...)\n"
   ]
  },
  {
   "attachments": {},
   "cell_type": "markdown",
   "metadata": {},
   "source": [
    "### Two Sum Problem (Easy)\n",
    "Given an array of integers nums and an integer target, return indices of the two numbers such that they add up to target.\n",
    "\n",
    "You may assume that each input would have exactly one solution, and you may not use the same element twice.\n",
    "\n",
    "You can return the answer in any order.\n",
    "\n",
    "Example:\n",
    "\n",
    "Input: `nums = [2,7,11,15]`, `target = 9`\n",
    "Output: `[0,1]`\n",
    "Explanation: `Because nums[0] + nums[1] == 9`, we return `[0, 1]`."
   ]
  },
  {
   "cell_type": "code",
   "execution_count": null,
   "metadata": {},
   "outputs": [],
   "source": [
    "\n",
    "def twoSum(self, nums, target):\n",
    "    \"\"\"\n",
    "    :type nums: List[int]\n",
    "    :type target: int\n",
    "    :rtype: List[int]\n",
    "    \"\"\"\n",
    "    dict = {}\n",
    "    for i in range(len(nums)):\n",
    "        num = nums[i] #log number into dict \n",
    "        if target - nums[i] in dict: #if the diff exists in dict, get it & ret solution\n",
    "            return [dict[target - nums[i]], i]\n",
    "        else:\n",
    "            dict[nums[i]] = i #add it to dict \n",
    "\n",
    "\n"
   ]
  },
  {
   "attachments": {},
   "cell_type": "markdown",
   "metadata": {},
   "source": [
    "### Buy Sell Stocks (Easy)\n",
    "\n",
    "You are given an array prices where prices[i] is the price of a given stock on the ith day.\n",
    "\n",
    "You want to maximize your profit by choosing a single day to buy one stock and choosing a different day in the future to sell that stock.\n",
    "\n",
    "Return the maximum profit you can achieve from this transaction. If you cannot achieve any profit, return 0.\n",
    "\n",
    " \n",
    "\n",
    "Example 1:\n",
    "\n",
    "Input: prices = [7,1,5,3,6,4]\n",
    "Output: 5\n",
    "Explanation: Buy on day 2 (price = 1) and sell on day 5 (price = 6), profit = 6-1 = 5.\n",
    "Note that buying on day 2 and selling on day 1 is not allowed because you must buy before you sell."
   ]
  },
  {
   "cell_type": "code",
   "execution_count": 11,
   "metadata": {},
   "outputs": [
    {
     "name": "stdout",
     "output_type": "stream",
     "text": [
      "1\n",
      "4\n"
     ]
    }
   ],
   "source": [
    "\n",
    "def maxProfit(prices):\n",
    "    \"\"\"\n",
    "    :type prices: List[int]\n",
    "    :rtype: int\n",
    "    \"\"\"\n",
    "    buy = prices[0]\n",
    "    profit = 0\n",
    "    for i in range(len(prices)): #we will leverage linearity of the loop\n",
    "        if prices[i] < buy: #if stock price lower than buy, then buy = price\n",
    "            buy = prices[i]\n",
    "        \n",
    "        elif prices[i] - buy > profit: #updates if stock was not bought and profit is > \n",
    "            profit = prices[i] - buy #even if we find a new low price, if we do not find a higher sell price\n",
    "            #then profit will not be updated. Preserving the correct answer!\n",
    "    return profit            \n",
    "            \n",
    "             \n",
    "print(maxProfit([7, 2, 5, 3, 6, 1])) #example edge case adressing the issue above\n"
   ]
  },
  {
   "attachments": {},
   "cell_type": "markdown",
   "metadata": {},
   "source": [
    "### Contains Duplicate (Easy)\n",
    "\n",
    "Given an integer array nums, return true if any value appears at least twice in the array, and return false if every element is distinct.\n",
    "\n",
    "Example 1:\n",
    "\n",
    "Input: nums = [1,2,3,1]\n",
    "\n",
    "Output: true\n",
    "\n",
    "Explanation:\n",
    "\n",
    "The element 1 occurs at the indices 0 and 3.\n",
    "\n"
   ]
  },
  {
   "cell_type": "code",
   "execution_count": null,
   "metadata": {},
   "outputs": [],
   "source": [
    "def containsDuplicate(nums):\n",
    "    \"\"\"\n",
    "    :type nums: List[int]\n",
    "    :rtype: bool\n",
    "    \"\"\"\n",
    "    numset = {} #Dictionairies use O(c) for access\n",
    "    for i in nums:\n",
    "        if i not in numset:\n",
    "            numset[i] = \"hi\" # add number if it is first encounter\n",
    "        else:\n",
    "            return True # second encounter! \n",
    "    return False \n"
   ]
  },
  {
   "attachments": {},
   "cell_type": "markdown",
   "metadata": {},
   "source": [
    "### Contains Duplicate II (Easy)\n",
    "\n",
    "Given an integer array nums and an integer k, return true if there are two distinct indices i and j in the array such that nums[i] == nums[j] and abs(i - j) <= k.\n",
    "\n",
    "\n",
    "Example 1:\n",
    "\n",
    "Input: nums = [1,2,3,1], k = 3\n",
    "Output: true\n",
    "Example 2:\n",
    "\n",
    "Input: nums = [1,0,1,1], k = 1\n",
    "Output: true\n",
    "Example 3:\n",
    "\n",
    "Input: nums = [1,2,3,1,2,3], k = 2\n",
    "Output: false\n"
   ]
  },
  {
   "cell_type": "code",
   "execution_count": null,
   "metadata": {},
   "outputs": [],
   "source": [
    "def containsNearbyDuplicate(nums, k):\n",
    "    \"\"\"\n",
    "    :type nums: List[int]\n",
    "    :type k: int\n",
    "    :rtype: bool\n",
    "    \"\"\"\n",
    "    num_dict = {}\n",
    "    for i in range(len(nums)):\n",
    "        if nums[i] not in num_dict: #save number as key, index as val\n",
    "            num_dict[nums[i]] = i\n",
    "        elif abs(i - num_dict[nums[i]]) <= k: #we have encountered a duplicate, use dict to get old index\n",
    "            return True # if index diff <= k, done!\n",
    "        else: #otherwise, update dict to store latest index of encounter with the duplicate\n",
    "            num_dict[nums[i]] = i #this will ensure that we minimize index dist. incase of another encounter\n",
    "    \n",
    "        return False #no duplicates found"
   ]
  },
  {
   "attachments": {},
   "cell_type": "markdown",
   "metadata": {},
   "source": [
    "### Product of Array Except Self (Medium)\n",
    "\n",
    "Given an integer array nums, return an array answer such that answer[i] is equal to the product of all the elements of nums except nums[i].\n",
    "\n",
    "The product of any prefix or suffix of nums is guaranteed to fit in a 32-bit integer.\n",
    "\n",
    "You must write an algorithm that runs in O(n) time and without using the division operation."
   ]
  },
  {
   "cell_type": "code",
   "execution_count": null,
   "metadata": {},
   "outputs": [],
   "source": [
    "def productExceptSelf(nums):\n",
    "    \"\"\"\n",
    "    :type nums: List[int]\n",
    "    :rtype: List[int]\n",
    "    \"\"\"\n",
    "    ans = [1] * len(nums) #Create an array of same size as nums, (use of 1s is essential)\n",
    "    pre = 1 # variable to store product of previous numbers\n",
    "    post = 1 # variable to store product of prev nums (when moving in reverse thru our list)\n",
    "    for i in range(len(nums)):\n",
    "        ans[i] *= pre # forward pass, we know ans[i] = 1, mult. by forward propegated products\n",
    "        pre *= nums[i] # propegate forward \n",
    "    for i in range(len(nums)-1, -1, -1):\n",
    "        ans[i] *= post \n",
    "        post *= nums[i]\n",
    "    return ans\n"
   ]
  },
  {
   "attachments": {},
   "cell_type": "markdown",
   "metadata": {},
   "source": [
    "### Maximum Subarray (Medium)\n",
    "\n",
    "Given an integer array nums, find the \n",
    "subarray\n",
    " with the largest sum, and return its sum.\n",
    "\n",
    " \n",
    "\n",
    "Example 1:\n",
    "\n",
    "Input: nums = [-2,1,-3,4,-1,2,1,-5,4]\n",
    "Output: 6\n",
    "Explanation: The subarray [4,-1,2,1] has the largest sum 6."
   ]
  },
  {
   "cell_type": "code",
   "execution_count": null,
   "metadata": {},
   "outputs": [],
   "source": [
    "def maxSubArray(nums):\n",
    "    \"\"\"\n",
    "        :type nums: List[int]\n",
    "        :rtype: int\n",
    "        \"\"\"\n",
    "    cur = 0\n",
    "    ma = nums[0]\n",
    "    for i in nums:\n",
    "        if cur + i < 0:  # if cur sum is ltz, not worth seeing where it goes\n",
    "            cur = 0  # reset sum\n",
    "            if ma < i:  # if i gt max, reset our max as well\n",
    "                ma = i\n",
    "        elif cur + i < ma:  # cur sum is gtz, but is it gt max? if not, keep summing cur\n",
    "            cur += i  # we have our saved max sum incase the cur sum is not optimal\n",
    "        else:  # cur sum is gt max, so keep summing cur and set new max\n",
    "            cur += i\n",
    "            ma = cur\n",
    "\n",
    "    return ma\n"
   ]
  }
 ],
 "metadata": {
  "kernelspec": {
   "display_name": "base",
   "language": "python",
   "name": "python3"
  },
  "language_info": {
   "codemirror_mode": {
    "name": "ipython",
    "version": 3
   },
   "file_extension": ".py",
   "mimetype": "text/x-python",
   "name": "python",
   "nbconvert_exporter": "python",
   "pygments_lexer": "ipython3",
   "version": "3.11.9"
  },
  "orig_nbformat": 4
 },
 "nbformat": 4,
 "nbformat_minor": 2
}
