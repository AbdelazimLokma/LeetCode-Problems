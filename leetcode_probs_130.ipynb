{
 "cells": [
  {
   "attachments": {},
   "cell_type": "markdown",
   "metadata": {},
   "source": [
    "# Running the LeetCode Gauntlet \n",
    "\n",
    "A collection of 75 leetcode (Blind 75) problems done in a single notebook to log my job hunt prep! \n",
    "This notebook will be available for any recruiters who want to see my hard work (I'm looking at you Google...)\n"
   ]
  },
  {
   "attachments": {},
   "cell_type": "markdown",
   "metadata": {},
   "source": [
    "### Two Sum Problem (Easy)\n",
    "Given an array of integers nums and an integer target, return indices of the two numbers such that they add up to target.\n",
    "\n",
    "You may assume that each input would have exactly one solution, and you may not use the same element twice.\n",
    "\n",
    "You can return the answer in any order.\n",
    "\n",
    "Example:\n",
    "\n",
    "Input: `nums = [2,7,11,15]`, `target = 9`\n",
    "Output: `[0,1]`\n",
    "Explanation: `Because nums[0] + nums[1] == 9`, we return `[0, 1]`."
   ]
  },
  {
   "cell_type": "code",
   "execution_count": null,
   "metadata": {},
   "outputs": [],
   "source": [
    "\n",
    "def twoSum(self, nums, target):\n",
    "    \"\"\"\n",
    "    :type nums: List[int]\n",
    "    :type target: int\n",
    "    :rtype: List[int]\n",
    "    \"\"\"\n",
    "    dict = {}\n",
    "    for i in range(len(nums)):\n",
    "        num = nums[i] #log number into dict \n",
    "        if target - nums[i] in dict: #if the diff exists in dict, get it & ret solution\n",
    "            return [dict[target - nums[i]], i]\n",
    "        else:\n",
    "            dict[nums[i]] = i #add it to dict \n",
    "\n",
    "\n"
   ]
  },
  {
   "attachments": {},
   "cell_type": "markdown",
   "metadata": {},
   "source": [
    "### Buy Sell Stocks (Easy)\n",
    "\n",
    "You are given an array prices where prices[i] is the price of a given stock on the ith day.\n",
    "\n",
    "You want to maximize your profit by choosing a single day to buy one stock and choosing a different day in the future to sell that stock.\n",
    "\n",
    "Return the maximum profit you can achieve from this transaction. If you cannot achieve any profit, return 0.\n",
    "\n",
    " \n",
    "\n",
    "Example 1:\n",
    "\n",
    "Input: prices = [7,1,5,3,6,4]\n",
    "Output: 5\n",
    "Explanation: Buy on day 2 (price = 1) and sell on day 5 (price = 6), profit = 6-1 = 5.\n",
    "Note that buying on day 2 and selling on day 1 is not allowed because you must buy before you sell."
   ]
  },
  {
   "cell_type": "code",
   "execution_count": 11,
   "metadata": {},
   "outputs": [
    {
     "name": "stdout",
     "output_type": "stream",
     "text": [
      "1\n",
      "4\n"
     ]
    }
   ],
   "source": [
    "\n",
    "def maxProfit(prices):\n",
    "    \"\"\"\n",
    "    :type prices: List[int]\n",
    "    :rtype: int\n",
    "    \"\"\"\n",
    "    buy = max('int')\n",
    "    prof = 0\n",
    "    for i in range(len(prices)):\n",
    "        if prices[i] < buy:  # if we find a better buy price, save it\n",
    "            # dont update profit, incase our buy came after our sell\n",
    "            buy = prices[i]\n",
    "        elif prices[i] - buy > prof:  # only if we didnt update our buy\n",
    "            # and if our new sell price is higher, do we save the prof\n",
    "            prof = prices[i] - buy\n",
    "    return prof\n",
    "            \n",
    "             \n",
    "print(maxProfit([7, 2, 5, 3, 6, 1])) #example edge case adressing the issue above\n"
   ]
  },
  {
   "attachments": {},
   "cell_type": "markdown",
   "metadata": {},
   "source": [
    "### Contains Duplicate (Easy)\n",
    "\n",
    "Given an integer array nums, return true if any value appears at least twice in the array, and return false if every element is distinct.\n",
    "\n",
    "Example 1:\n",
    "\n",
    "Input: nums = [1,2,3,1]\n",
    "\n",
    "Output: true\n",
    "\n",
    "Explanation:\n",
    "\n",
    "The element 1 occurs at the indices 0 and 3.\n",
    "\n"
   ]
  },
  {
   "cell_type": "code",
   "execution_count": null,
   "metadata": {},
   "outputs": [],
   "source": [
    "def containsDuplicate(nums):\n",
    "    \"\"\"\n",
    "    :type nums: List[int]\n",
    "    :rtype: bool\n",
    "    \"\"\"\n",
    "    numset = {} #Dictionairies use O(c) for access\n",
    "    for i in nums:\n",
    "        if i not in numset:\n",
    "            numset[i] = \"hi\" # add number if it is first encounter\n",
    "        else:\n",
    "            return True # second encounter! \n",
    "    return False \n"
   ]
  },
  {
   "attachments": {},
   "cell_type": "markdown",
   "metadata": {},
   "source": [
    "### Contains Duplicate II (Easy)\n",
    "\n",
    "Given an integer array nums and an integer k, return true if there are two distinct indices i and j in the array such that nums[i] == nums[j] and abs(i - j) <= k.\n",
    "\n",
    "\n",
    "Example 1:\n",
    "\n",
    "Input: nums = [1,2,3,1], k = 3\n",
    "Output: true\n",
    "Example 2:\n",
    "\n",
    "Input: nums = [1,0,1,1], k = 1\n",
    "Output: true\n",
    "Example 3:\n",
    "\n",
    "Input: nums = [1,2,3,1,2,3], k = 2\n",
    "Output: false\n"
   ]
  },
  {
   "cell_type": "code",
   "execution_count": null,
   "metadata": {},
   "outputs": [],
   "source": [
    "def containsNearbyDuplicate(nums, k):\n",
    "    \"\"\"\n",
    "    :type nums: List[int]\n",
    "    :type k: int\n",
    "    :rtype: bool\n",
    "    \"\"\"\n",
    "    num_dict = {}\n",
    "    for i in range(len(nums)):\n",
    "        if nums[i] not in num_dict: #save number as key, index as val\n",
    "            num_dict[nums[i]] = i\n",
    "        elif abs(i - num_dict[nums[i]]) <= k: #we have encountered a duplicate, use dict to get old index\n",
    "            return True # if index diff <= k, done!\n",
    "        else: #otherwise, update dict to store latest index of encounter with the duplicate\n",
    "            num_dict[nums[i]] = i #this will ensure that we minimize index dist. incase of another encounter\n",
    "    \n",
    "        return False #no duplicates found"
   ]
  },
  {
   "attachments": {},
   "cell_type": "markdown",
   "metadata": {},
   "source": [
    "### Product of Array Except Self (Medium)\n",
    "\n",
    "Given an integer array nums, return an array answer such that answer[i] is equal to the product of all the elements of nums except nums[i].\n",
    "\n",
    "The product of any prefix or suffix of nums is guaranteed to fit in a 32-bit integer.\n",
    "\n",
    "You must write an algorithm that runs in O(n) time and without using the division operation."
   ]
  },
  {
   "cell_type": "code",
   "execution_count": null,
   "metadata": {},
   "outputs": [],
   "source": [
    "def productExceptSelf(nums):\n",
    "    \"\"\"\n",
    "    :type nums: List[int]\n",
    "    :rtype: List[int]\n",
    "    \"\"\"\n",
    "    ans = [1] * len(nums) #Create an array of same size as nums, (use of 1s is essential)\n",
    "    pre = 1 # variable to store product of previous numbers\n",
    "    post = 1 # variable to store product of prev nums (when moving in reverse thru our list)\n",
    "    for i in range(len(nums)):\n",
    "        ans[i] *= pre # forward pass, we know ans[i] = 1, mult. by forward propegated products\n",
    "        pre *= nums[i] # propegate forward \n",
    "    for i in range(len(nums)-1, -1, -1):\n",
    "        ans[i] *= post \n",
    "        post *= nums[i]\n",
    "    return ans\n"
   ]
  },
  {
   "attachments": {},
   "cell_type": "markdown",
   "metadata": {},
   "source": [
    "### Maximum Subarray (Medium)\n",
    "\n",
    "Given an integer array nums, find the \n",
    "subarray\n",
    " with the largest sum, and return its sum.\n",
    "\n",
    " \n",
    "\n",
    "Example 1:\n",
    "\n",
    "Input: nums = [-2,1,-3,4,-1,2,1,-5,4]\n",
    "Output: 6\n",
    "Explanation: The subarray [4,-1,2,1] has the largest sum 6."
   ]
  },
  {
   "cell_type": "code",
   "execution_count": null,
   "metadata": {},
   "outputs": [],
   "source": [
    "def maxSubArray(nums):\n",
    "    \"\"\"\n",
    "        :type nums: List[int]\n",
    "        :rtype: int\n",
    "        \"\"\"\n",
    "    cur = 0\n",
    "    ma = nums[0]\n",
    "    for i in nums:\n",
    "        if cur + i < 0:  # if cur sum is ltz, not worth seeing where it goes\n",
    "            cur = 0  # reset sum\n",
    "            if ma < i:  # if i gt max, reset our max as well\n",
    "                ma = i\n",
    "        elif cur + i < ma:  # cur sum is gtz, but is it gt max? if not, keep summing cur\n",
    "            cur += i  # we have our saved max sum incase the cur sum is not optimal\n",
    "        else:  # cur sum is gt max, so keep summing cur and set new max\n",
    "            cur += i\n",
    "            ma = cur\n",
    "\n",
    "    return ma\n"
   ]
  },
  {
   "attachments": {},
   "cell_type": "markdown",
   "metadata": {},
   "source": [
    "### Greatest Common Divisor of Strings (Medium)\n",
    "\n",
    "For two strings s and t, we say \"t divides s\" if and only if s = t + t + t + ... + t + t (i.e., t is concatenated with itself one or more times).\n",
    "\n",
    "Given two strings str1 and str2, return the largest string x such that x divides both str1 and str2.\n",
    "\n",
    "Example 1:\n",
    "\n",
    "Input: str1 = \"ABCABC\", str2 = \"ABC\"\n",
    "Output: \"ABC\""
   ]
  },
  {
   "cell_type": "code",
   "execution_count": 4,
   "metadata": {},
   "outputs": [
    {
     "data": {
      "text/plain": [
       "'AB'"
      ]
     },
     "execution_count": 4,
     "metadata": {},
     "output_type": "execute_result"
    }
   ],
   "source": [
    "from math import gcd\n",
    "def gcdOfStrings(str1, str2):\n",
    "    if str1+str2 != str2+str1: #if t divides s, then we can take different order \n",
    "                               #of t and s and they should be the same \n",
    "                                # ABC + ABCABC = ABCABCABC | ABCABC + ABC = ABCABCABC\n",
    "        return \"\"\n",
    "    \n",
    "    return str1[:gcd(len(str1), len(str2))] \n",
    "    #in the case where the two strings are just the same pattern but of different lengths, \n",
    "    # then we need to find the smallest number capable of dividing them both without remaineder\n",
    "    # that smallest number captures the length of the basic pattern \n",
    "\n",
    "\n",
    "gcdOfStrings(\"ABABAB\", \"ABAB\")\n"
   ]
  },
  {
   "attachments": {},
   "cell_type": "markdown",
   "metadata": {},
   "source": [
    "### Kids With the Greatest Number of Candies (Easy)\n",
    "\n",
    "There are n kids with candies. You are given an integer array candies, where each candies[i] represents the number of candies the ith kid has, and an integer extraCandies, denoting the number of extra candies that you have.\n",
    "\n",
    "Return a boolean array result of length n, where result[i] is true if, after giving the ith kid all the extraCandies, they will have the greatest number of candies among all the kids, or false otherwise.\n",
    "\n",
    "Note that multiple kids can have the greatest number of candies.\n",
    "\n",
    " \n",
    "\n",
    "Example 1:\n",
    "\n",
    "Input: candies = [2,3,5,1,3], extraCandies = 3\n",
    "Output: [true,true,true,false,true] \n",
    "Explanation: If you give all extraCandies to:\n",
    "- Kid 1, they will have 2 + 3 = 5 candies, which is the greatest among the kids.\n",
    "- Kid 2, they will have 3 + 3 = 6 candies, which is the greatest among the kids.\n",
    "- Kid 3, they will have 5 + 3 = 8 candies, which is the greatest among the kids.\n",
    "- Kid 4, they will have 1 + 3 = 4 candies, which is not the greatest among the kids.\n",
    "- Kid 5, they will have 3 + 3 = 6 candies, which is the greatest among the kids."
   ]
  },
  {
   "cell_type": "code",
   "execution_count": null,
   "metadata": {},
   "outputs": [],
   "source": [
    "def kidsWithCandies(candies, extraCandies):\n",
    "    \"\"\"\n",
    "    :type candies: List[int]\n",
    "    :type extraCandies: int\n",
    "    :rtype: List[bool]\n",
    "    \"\"\"\n",
    "    max_kid = max(candies)\n",
    "    ret = [False] * len(candies)\n",
    "\n",
    "    for i in range(len(candies)):\n",
    "        if candies[i] + extraCandies >= max_kid:\n",
    "            ret[i] = True\n",
    "\n",
    "    return ret\n"
   ]
  },
  {
   "attachments": {},
   "cell_type": "markdown",
   "metadata": {},
   "source": [
    "### Can Place Flowers (Easy);\n",
    "\n",
    "You have a long flowerbed in which some of the plots are planted, and some are not. However, flowers cannot be planted in adjacent plots.\n",
    "\n",
    "Given an integer array flowerbed containing 0's and 1's, where 0 means empty and 1 means not empty, and an integer n, return true if n new flowers can be planted in the flowerbed without violating the no-adjacent-flowers rule and false otherwise.\n",
    "\n",
    "Example 1:\n",
    "\n",
    "Input: flowerbed = [1,0,0,0,1], n = 1\n",
    "Output: true"
   ]
  },
  {
   "cell_type": "code",
   "execution_count": 5,
   "metadata": {},
   "outputs": [],
   "source": [
    "def canPlaceFlowers(flowerbed, n):\n",
    "    \"\"\"\n",
    "    :type flowerbed: List[int]\n",
    "    :type n: int\n",
    "    :rtype: bool\n",
    "    \"\"\"\n",
    "    \n",
    "    for i in range(len(flowerbed)):\n",
    "        left = i == 0 or flowerbed[i-1] == 0  # if left clear\n",
    "        right = i == len(flowerbed) - 1 or flowerbed[i+1] == 0  # if right clear\n",
    "        # if both sides clear and slot empty\n",
    "        if left and right and flowerbed[i] == 0:\n",
    "            flowerbed[i] = 1 # place flower\n",
    "            n -= 1 #flower placed\n",
    "            \n",
    "    if n > 0: #if we have more than 0 flowers \n",
    "        return False \n",
    "    return True\n"
   ]
  }
 ],
 "metadata": {
  "kernelspec": {
   "display_name": "base",
   "language": "python",
   "name": "python3"
  },
  "language_info": {
   "codemirror_mode": {
    "name": "ipython",
    "version": 3
   },
   "file_extension": ".py",
   "mimetype": "text/x-python",
   "name": "python",
   "nbconvert_exporter": "python",
   "pygments_lexer": "ipython3",
   "version": "3.11.9"
  },
  "orig_nbformat": 4
 },
 "nbformat": 4,
 "nbformat_minor": 2
}
